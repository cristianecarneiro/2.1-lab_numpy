{
 "cells": [
  {
   "cell_type": "code",
   "execution_count": 45,
   "metadata": {},
   "outputs": [
    {
     "name": "stdout",
     "output_type": "stream",
     "text": [
      "Requirement already satisfied: numpy in /Users/criscarneiro/anaconda3/lib/python3.11/site-packages (1.24.3)\n",
      "Note: you may need to restart the kernel to use updated packages.\n"
     ]
    }
   ],
   "source": [
    "%pip install numpy"
   ]
  },
  {
   "cell_type": "markdown",
   "metadata": {},
   "source": [
    "### 1. Import the NUMPY package under the name np."
   ]
  },
  {
   "cell_type": "code",
   "execution_count": 46,
   "metadata": {},
   "outputs": [],
   "source": [
    "import numpy as np"
   ]
  },
  {
   "cell_type": "markdown",
   "metadata": {},
   "source": [
    "### 2. Print the NUMPY version and the configuration"
   ]
  },
  {
   "cell_type": "code",
   "execution_count": 47,
   "metadata": {},
   "outputs": [
    {
     "name": "stdout",
     "output_type": "stream",
     "text": [
      "1.24.3\n"
     ]
    }
   ],
   "source": [
    "print(np.__version__)"
   ]
  },
  {
   "cell_type": "markdown",
   "metadata": {},
   "source": [
    "### 3. Generate a 2x3x5 3-dimensional array with random values. Assign the array to variable \"a\". Challenge: there are at least three easy ways that use numpy to generate random arrays. How many ways can you find?"
   ]
  },
  {
   "cell_type": "code",
   "execution_count": 48,
   "metadata": {},
   "outputs": [
    {
     "data": {
      "text/plain": [
       "array([[[0.635463  , 0.46338304, 0.24997434, 0.02059286, 0.42602659],\n",
       "        [0.1478488 , 0.49113184, 0.13891948, 0.85687536, 0.08281527],\n",
       "        [0.71169421, 0.30694168, 0.6341789 , 0.92065403, 0.90528588]],\n",
       "\n",
       "       [[0.20361999, 0.25985575, 0.06223835, 0.04736775, 0.59338424],\n",
       "        [0.25918223, 0.04513543, 0.41287093, 0.50688205, 0.98502713],\n",
       "        [0.41593816, 0.27893748, 0.92424855, 0.19024139, 0.05943507]]])"
      ]
     },
     "execution_count": 48,
     "metadata": {},
     "output_type": "execute_result"
    }
   ],
   "source": [
    "#first way \n",
    "a = np.random.random((2,3,5))\n",
    "a"
   ]
  },
  {
   "cell_type": "code",
   "execution_count": 49,
   "metadata": {},
   "outputs": [
    {
     "data": {
      "text/plain": [
       "array([[[ 8,  9, 10,  8,  4],\n",
       "        [ 6,  8,  5,  3,  3],\n",
       "        [ 2,  2,  4,  0,  5]],\n",
       "\n",
       "       [[ 1,  7,  2,  2,  9],\n",
       "        [ 3,  0, 10, 10,  7],\n",
       "        [ 6,  9,  9, 10,  1]]])"
      ]
     },
     "execution_count": 49,
     "metadata": {},
     "output_type": "execute_result"
    }
   ],
   "source": [
    "#second way, e.g., int numbers between 0 and 1\n",
    "\n",
    "a1 = np.random.randint(0,11,size=(2,3,5))\n",
    "a1"
   ]
  },
  {
   "cell_type": "code",
   "execution_count": 50,
   "metadata": {},
   "outputs": [
    {
     "data": {
      "text/plain": [
       "array([[[0.07700211, 0.48656202, 0.96947037, 0.00252242, 0.77491124],\n",
       "        [0.58137403, 0.53649917, 0.07601463, 0.35299396, 0.40780019],\n",
       "        [0.24064678, 0.94066411, 0.49628524, 0.95364795, 0.60964344]],\n",
       "\n",
       "       [[0.08830269, 0.55480858, 0.39153485, 0.06237622, 0.0295357 ],\n",
       "        [0.79862394, 0.41946273, 0.24750708, 0.3552625 , 0.33462288],\n",
       "        [0.19548471, 0.79617476, 0.86327459, 0.8501992 , 0.21786644]]])"
      ]
     },
     "execution_count": 50,
     "metadata": {},
     "output_type": "execute_result"
    }
   ],
   "source": [
    "#third way \n",
    "a2 = np.random.random_sample((2,3,5))\n",
    "a2"
   ]
  },
  {
   "cell_type": "markdown",
   "metadata": {},
   "source": [
    "### 4. Print a."
   ]
  },
  {
   "cell_type": "code",
   "execution_count": 51,
   "metadata": {},
   "outputs": [
    {
     "name": "stdout",
     "output_type": "stream",
     "text": [
      "[[[0.635463   0.46338304 0.24997434 0.02059286 0.42602659]\n",
      "  [0.1478488  0.49113184 0.13891948 0.85687536 0.08281527]\n",
      "  [0.71169421 0.30694168 0.6341789  0.92065403 0.90528588]]\n",
      "\n",
      " [[0.20361999 0.25985575 0.06223835 0.04736775 0.59338424]\n",
      "  [0.25918223 0.04513543 0.41287093 0.50688205 0.98502713]\n",
      "  [0.41593816 0.27893748 0.92424855 0.19024139 0.05943507]]]\n"
     ]
    }
   ],
   "source": [
    "print(a)"
   ]
  },
  {
   "cell_type": "markdown",
   "metadata": {},
   "source": [
    "### 5. Create a 5x2x3 3-dimensional array with all values equaling 1.Assign the array to variable \"b\""
   ]
  },
  {
   "cell_type": "code",
   "execution_count": 52,
   "metadata": {},
   "outputs": [],
   "source": [
    "b = np.ones((5,2,3))"
   ]
  },
  {
   "cell_type": "markdown",
   "metadata": {},
   "source": [
    "### 6. Print b."
   ]
  },
  {
   "cell_type": "code",
   "execution_count": 53,
   "metadata": {},
   "outputs": [
    {
     "name": "stdout",
     "output_type": "stream",
     "text": [
      "[[[1. 1. 1.]\n",
      "  [1. 1. 1.]]\n",
      "\n",
      " [[1. 1. 1.]\n",
      "  [1. 1. 1.]]\n",
      "\n",
      " [[1. 1. 1.]\n",
      "  [1. 1. 1.]]\n",
      "\n",
      " [[1. 1. 1.]\n",
      "  [1. 1. 1.]]\n",
      "\n",
      " [[1. 1. 1.]\n",
      "  [1. 1. 1.]]]\n"
     ]
    }
   ],
   "source": [
    "print(b)"
   ]
  },
  {
   "cell_type": "markdown",
   "metadata": {},
   "source": [
    "### 7. Do a and b have the same size? How do you prove that in Python code?"
   ]
  },
  {
   "cell_type": "code",
   "execution_count": 54,
   "metadata": {},
   "outputs": [
    {
     "data": {
      "text/plain": [
       "True"
      ]
     },
     "execution_count": 54,
     "metadata": {},
     "output_type": "execute_result"
    }
   ],
   "source": [
    "#yes, both have a size of 40\n",
    "a.size == b.size"
   ]
  },
  {
   "cell_type": "markdown",
   "metadata": {},
   "source": [
    "### 8. Are you able to add a and b? Why or why not?"
   ]
  },
  {
   "cell_type": "code",
   "execution_count": 55,
   "metadata": {},
   "outputs": [
    {
     "data": {
      "text/plain": [
       "False"
      ]
     },
     "execution_count": 55,
     "metadata": {},
     "output_type": "execute_result"
    }
   ],
   "source": [
    "#no, porque para sumar las dimensiones tendrían que ser las mismas. Se generaria el error abajo.  \n",
    "\n",
    "a.shape == b.shape"
   ]
  },
  {
   "cell_type": "code",
   "execution_count": 56,
   "metadata": {},
   "outputs": [
    {
     "ename": "ValueError",
     "evalue": "operands could not be broadcast together with shapes (2,3,5) (5,2,3) ",
     "output_type": "error",
     "traceback": [
      "\u001b[0;31m---------------------------------------------------------------------------\u001b[0m",
      "\u001b[0;31mValueError\u001b[0m                                Traceback (most recent call last)",
      "Cell \u001b[0;32mIn[56], line 1\u001b[0m\n\u001b[0;32m----> 1\u001b[0m sumadeab \u001b[38;5;241m=\u001b[39m a \u001b[38;5;241m+\u001b[39m b\n",
      "\u001b[0;31mValueError\u001b[0m: operands could not be broadcast together with shapes (2,3,5) (5,2,3) "
     ]
    }
   ],
   "source": [
    "sumadeab = a + b"
   ]
  },
  {
   "cell_type": "markdown",
   "metadata": {},
   "source": [
    "### 9. Transpose b so that it has the same structure of a (i.e. become a 2x3x5 array). Assign the transposed array to varialbe \"c\"."
   ]
  },
  {
   "cell_type": "code",
   "execution_count": 57,
   "metadata": {},
   "outputs": [
    {
     "data": {
      "text/plain": [
       "(2, 3, 5)"
      ]
     },
     "execution_count": 57,
     "metadata": {},
     "output_type": "execute_result"
    }
   ],
   "source": [
    "c = b.transpose((1,2,0))\n",
    "\n",
    "c.shape"
   ]
  },
  {
   "cell_type": "markdown",
   "metadata": {},
   "source": [
    "### 10. Try to add a and c. Now it should work. Assign the sum to varialbe \"d\". But why does it work now?"
   ]
  },
  {
   "cell_type": "code",
   "execution_count": 58,
   "metadata": {},
   "outputs": [
    {
     "data": {
      "text/plain": [
       "array([[[1.635463  , 1.46338304, 1.24997434, 1.02059286, 1.42602659],\n",
       "        [1.1478488 , 1.49113184, 1.13891948, 1.85687536, 1.08281527],\n",
       "        [1.71169421, 1.30694168, 1.6341789 , 1.92065403, 1.90528588]],\n",
       "\n",
       "       [[1.20361999, 1.25985575, 1.06223835, 1.04736775, 1.59338424],\n",
       "        [1.25918223, 1.04513543, 1.41287093, 1.50688205, 1.98502713],\n",
       "        [1.41593816, 1.27893748, 1.92424855, 1.19024139, 1.05943507]]])"
      ]
     },
     "execution_count": 58,
     "metadata": {},
     "output_type": "execute_result"
    }
   ],
   "source": [
    "d = a + c\n",
    "d"
   ]
  },
  {
   "cell_type": "code",
   "execution_count": 59,
   "metadata": {},
   "outputs": [
    {
     "data": {
      "text/plain": [
       "True"
      ]
     },
     "execution_count": 59,
     "metadata": {},
     "output_type": "execute_result"
    }
   ],
   "source": [
    "#it works because they have the same dimensions \n",
    "\n",
    "a.shape == d.shape"
   ]
  },
  {
   "cell_type": "markdown",
   "metadata": {},
   "source": [
    "### 11. Print a and d. Notice the difference and relation of the two array in terms of the values? Explain."
   ]
  },
  {
   "cell_type": "code",
   "execution_count": 60,
   "metadata": {},
   "outputs": [
    {
     "name": "stdout",
     "output_type": "stream",
     "text": [
      "[[[0.635463   0.46338304 0.24997434 0.02059286 0.42602659]\n",
      "  [0.1478488  0.49113184 0.13891948 0.85687536 0.08281527]\n",
      "  [0.71169421 0.30694168 0.6341789  0.92065403 0.90528588]]\n",
      "\n",
      " [[0.20361999 0.25985575 0.06223835 0.04736775 0.59338424]\n",
      "  [0.25918223 0.04513543 0.41287093 0.50688205 0.98502713]\n",
      "  [0.41593816 0.27893748 0.92424855 0.19024139 0.05943507]]]\n"
     ]
    }
   ],
   "source": [
    "print(a)"
   ]
  },
  {
   "cell_type": "code",
   "execution_count": 61,
   "metadata": {},
   "outputs": [
    {
     "name": "stdout",
     "output_type": "stream",
     "text": [
      "[[[1.635463   1.46338304 1.24997434 1.02059286 1.42602659]\n",
      "  [1.1478488  1.49113184 1.13891948 1.85687536 1.08281527]\n",
      "  [1.71169421 1.30694168 1.6341789  1.92065403 1.90528588]]\n",
      "\n",
      " [[1.20361999 1.25985575 1.06223835 1.04736775 1.59338424]\n",
      "  [1.25918223 1.04513543 1.41287093 1.50688205 1.98502713]\n",
      "  [1.41593816 1.27893748 1.92424855 1.19024139 1.05943507]]]\n"
     ]
    }
   ],
   "source": [
    "print(d)"
   ]
  },
  {
   "cell_type": "code",
   "execution_count": 62,
   "metadata": {},
   "outputs": [],
   "source": [
    "#para cada valor i,j de A hemos sumado 1 "
   ]
  },
  {
   "cell_type": "markdown",
   "metadata": {},
   "source": [
    "### 12. Multiply a and c. Assign the result to e."
   ]
  },
  {
   "cell_type": "code",
   "execution_count": 63,
   "metadata": {},
   "outputs": [
    {
     "data": {
      "text/plain": [
       "(2, 3, 5)"
      ]
     },
     "execution_count": 63,
     "metadata": {},
     "output_type": "execute_result"
    }
   ],
   "source": [
    "a.shape "
   ]
  },
  {
   "cell_type": "code",
   "execution_count": 64,
   "metadata": {},
   "outputs": [
    {
     "data": {
      "text/plain": [
       "(2, 3, 5)"
      ]
     },
     "execution_count": 64,
     "metadata": {},
     "output_type": "execute_result"
    }
   ],
   "source": [
    "c.shape"
   ]
  },
  {
   "cell_type": "code",
   "execution_count": 65,
   "metadata": {},
   "outputs": [
    {
     "data": {
      "text/plain": [
       "array([[[0.635463  , 0.46338304, 0.24997434, 0.02059286, 0.42602659],\n",
       "        [0.1478488 , 0.49113184, 0.13891948, 0.85687536, 0.08281527],\n",
       "        [0.71169421, 0.30694168, 0.6341789 , 0.92065403, 0.90528588]],\n",
       "\n",
       "       [[0.20361999, 0.25985575, 0.06223835, 0.04736775, 0.59338424],\n",
       "        [0.25918223, 0.04513543, 0.41287093, 0.50688205, 0.98502713],\n",
       "        [0.41593816, 0.27893748, 0.92424855, 0.19024139, 0.05943507]]])"
      ]
     },
     "execution_count": 65,
     "metadata": {},
     "output_type": "execute_result"
    }
   ],
   "source": [
    "#producto elemento a elemento (elemento wise)\n",
    "\n",
    "e = np.multiply(a,c)\n",
    "e"
   ]
  },
  {
   "cell_type": "markdown",
   "metadata": {},
   "source": [
    "### 13. Does e equal to a? Why or why not?"
   ]
  },
  {
   "cell_type": "code",
   "execution_count": 66,
   "metadata": {},
   "outputs": [
    {
     "name": "stdout",
     "output_type": "stream",
     "text": [
      "[[[0.635463   0.46338304 0.24997434 0.02059286 0.42602659]\n",
      "  [0.1478488  0.49113184 0.13891948 0.85687536 0.08281527]\n",
      "  [0.71169421 0.30694168 0.6341789  0.92065403 0.90528588]]\n",
      "\n",
      " [[0.20361999 0.25985575 0.06223835 0.04736775 0.59338424]\n",
      "  [0.25918223 0.04513543 0.41287093 0.50688205 0.98502713]\n",
      "  [0.41593816 0.27893748 0.92424855 0.19024139 0.05943507]]]\n"
     ]
    }
   ],
   "source": [
    "print(a)"
   ]
  },
  {
   "cell_type": "code",
   "execution_count": 67,
   "metadata": {},
   "outputs": [
    {
     "name": "stdout",
     "output_type": "stream",
     "text": [
      "[[[0.635463   0.46338304 0.24997434 0.02059286 0.42602659]\n",
      "  [0.1478488  0.49113184 0.13891948 0.85687536 0.08281527]\n",
      "  [0.71169421 0.30694168 0.6341789  0.92065403 0.90528588]]\n",
      "\n",
      " [[0.20361999 0.25985575 0.06223835 0.04736775 0.59338424]\n",
      "  [0.25918223 0.04513543 0.41287093 0.50688205 0.98502713]\n",
      "  [0.41593816 0.27893748 0.92424855 0.19024139 0.05943507]]]\n"
     ]
    }
   ],
   "source": [
    "print(e)"
   ]
  },
  {
   "cell_type": "code",
   "execution_count": 68,
   "metadata": {},
   "outputs": [
    {
     "data": {
      "text/plain": [
       "4643123920"
      ]
     },
     "execution_count": 68,
     "metadata": {},
     "output_type": "execute_result"
    }
   ],
   "source": [
    "id(a)"
   ]
  },
  {
   "cell_type": "code",
   "execution_count": 69,
   "metadata": {},
   "outputs": [
    {
     "data": {
      "text/plain": [
       "4643124976"
      ]
     },
     "execution_count": 69,
     "metadata": {},
     "output_type": "execute_result"
    }
   ],
   "source": [
    "id(e)"
   ]
  },
  {
   "cell_type": "code",
   "execution_count": 70,
   "metadata": {},
   "outputs": [
    {
     "data": {
      "text/plain": [
       "array([[[ True,  True,  True,  True,  True],\n",
       "        [ True,  True,  True,  True,  True],\n",
       "        [ True,  True,  True,  True,  True]],\n",
       "\n",
       "       [[ True,  True,  True,  True,  True],\n",
       "        [ True,  True,  True,  True,  True],\n",
       "        [ True,  True,  True,  True,  True]]])"
      ]
     },
     "execution_count": 70,
     "metadata": {},
     "output_type": "execute_result"
    }
   ],
   "source": [
    "a == e"
   ]
  },
  {
   "cell_type": "code",
   "execution_count": 71,
   "metadata": {},
   "outputs": [
    {
     "data": {
      "text/plain": [
       "True"
      ]
     },
     "execution_count": 71,
     "metadata": {},
     "output_type": "execute_result"
    }
   ],
   "source": [
    "#yes, they have the same shape and the same elements \n",
    "\n",
    "result = np.array_equal(a,e)\n",
    "result"
   ]
  },
  {
   "cell_type": "markdown",
   "metadata": {},
   "source": [
    "### 14. Identify the max, min, and mean values in d. Assign those values to variables \"d_max\", \"d_min\", and \"d_mean\""
   ]
  },
  {
   "cell_type": "code",
   "execution_count": 72,
   "metadata": {},
   "outputs": [
    {
     "data": {
      "text/plain": [
       "1.9850271264991495"
      ]
     },
     "execution_count": 72,
     "metadata": {},
     "output_type": "execute_result"
    }
   ],
   "source": [
    "d_max = d.max()\n",
    "d_max"
   ]
  },
  {
   "cell_type": "code",
   "execution_count": 73,
   "metadata": {},
   "outputs": [
    {
     "data": {
      "text/plain": [
       "1.0205928560438826"
      ]
     },
     "execution_count": 73,
     "metadata": {},
     "output_type": "execute_result"
    }
   ],
   "source": [
    "d_min = d.min()\n",
    "d_min"
   ]
  },
  {
   "cell_type": "code",
   "execution_count": 74,
   "metadata": {},
   "outputs": [
    {
     "data": {
      "text/plain": [
       "1.4078716588260733"
      ]
     },
     "execution_count": 74,
     "metadata": {},
     "output_type": "execute_result"
    }
   ],
   "source": [
    "d_mean = d.mean()\n",
    "d_mean"
   ]
  },
  {
   "cell_type": "markdown",
   "metadata": {},
   "source": [
    "### 15. Now we want to label the values in d. First create an empty array \"f\" with the same shape (i.e. 2x3x5) as d using `np.empty`."
   ]
  },
  {
   "cell_type": "code",
   "execution_count": 75,
   "metadata": {},
   "outputs": [
    {
     "data": {
      "text/plain": [
       "(2, 3, 5)"
      ]
     },
     "execution_count": 75,
     "metadata": {},
     "output_type": "execute_result"
    }
   ],
   "source": [
    "#help(np.empty)\n",
    "d.shape"
   ]
  },
  {
   "cell_type": "code",
   "execution_count": 76,
   "metadata": {},
   "outputs": [
    {
     "data": {
      "text/plain": [
       "array([[[0.635463  , 0.46338304, 0.24997434, 0.02059286, 0.42602659],\n",
       "        [0.1478488 , 0.49113184, 0.13891948, 0.85687536, 0.08281527],\n",
       "        [0.71169421, 0.30694168, 0.6341789 , 0.92065403, 0.90528588]],\n",
       "\n",
       "       [[0.20361999, 0.25985575, 0.06223835, 0.04736775, 0.59338424],\n",
       "        [0.25918223, 0.04513543, 0.41287093, 0.50688205, 0.98502713],\n",
       "        [0.41593816, 0.27893748, 0.92424855, 0.19024139, 0.05943507]]])"
      ]
     },
     "execution_count": 76,
     "metadata": {},
     "output_type": "execute_result"
    }
   ],
   "source": [
    "f = np.empty((2,3,5))\n",
    "f"
   ]
  },
  {
   "cell_type": "markdown",
   "metadata": {},
   "source": [
    "### 16. Populate the values in f. \n",
    "\n",
    "For each value in d, if it's larger than d_min but smaller than d_mean, assign 25 to the corresponding value in f. If a value in d is larger than d_mean but smaller than d_max, assign 75 to the corresponding value in f. If a value equals to d_mean, assign 50 to the corresponding value in f. Assign 0 to the corresponding value(s) in f for d_min in d. Assign 100 to the corresponding value(s) in f for d_max in d. In the end, f should have only the following values: 0, 25, 50, 75, and 100. Note: you don't have to use Numpy in this question.\n"
   ]
  },
  {
   "cell_type": "code",
   "execution_count": 77,
   "metadata": {},
   "outputs": [
    {
     "name": "stdout",
     "output_type": "stream",
     "text": [
      "[[[1.635463   1.46338304 1.24997434 1.02059286 1.42602659]\n",
      "  [1.1478488  1.49113184 1.13891948 1.85687536 1.08281527]\n",
      "  [1.71169421 1.30694168 1.6341789  1.92065403 1.90528588]]\n",
      "\n",
      " [[1.20361999 1.25985575 1.06223835 1.04736775 1.59338424]\n",
      "  [1.25918223 1.04513543 1.41287093 1.50688205 1.98502713]\n",
      "  [1.41593816 1.27893748 1.92424855 1.19024139 1.05943507]]]\n"
     ]
    }
   ],
   "source": [
    "print(d)"
   ]
  },
  {
   "cell_type": "code",
   "execution_count": 78,
   "metadata": {},
   "outputs": [
    {
     "data": {
      "text/plain": [
       "range(0, 2)"
      ]
     },
     "execution_count": 78,
     "metadata": {},
     "output_type": "execute_result"
    }
   ],
   "source": [
    "range(len(d))"
   ]
  },
  {
   "cell_type": "code",
   "execution_count": 79,
   "metadata": {},
   "outputs": [
    {
     "data": {
      "text/plain": [
       "range(0, 3)"
      ]
     },
     "execution_count": 79,
     "metadata": {},
     "output_type": "execute_result"
    }
   ],
   "source": [
    "range(len(d[0]))"
   ]
  },
  {
   "cell_type": "code",
   "execution_count": 80,
   "metadata": {},
   "outputs": [
    {
     "data": {
      "text/plain": [
       "range(0, 5)"
      ]
     },
     "execution_count": 80,
     "metadata": {},
     "output_type": "execute_result"
    }
   ],
   "source": [
    "range(len(d[0][0]))"
   ]
  },
  {
   "cell_type": "code",
   "execution_count": 81,
   "metadata": {},
   "outputs": [
    {
     "data": {
      "text/plain": [
       "array([[[75., 75., 25.,  0., 75.],\n",
       "        [25., 75., 25., 75., 25.],\n",
       "        [75., 25., 75., 75., 75.]],\n",
       "\n",
       "       [[25., 25., 25., 25., 75.],\n",
       "        [25., 25., 75., 75., 75.],\n",
       "        [75., 25., 75., 25., 25.]]])"
      ]
     },
     "execution_count": 81,
     "metadata": {},
     "output_type": "execute_result"
    }
   ],
   "source": [
    "#for loop\n",
    "\n",
    "for capa in range(len(d)):\n",
    "    for fila in range(len(d[0])):\n",
    "        for columna in range(len(d[0][0])):\n",
    "            if d[capa,fila,columna] == d_min: \n",
    "                f[capa,fila,columna] = 0\n",
    "            elif d[capa,fila,columna] == d_mean:\n",
    "                f[capa,fila,columna] = 50\n",
    "            elif d[capa,fila,columna] == d_max:\n",
    "                f[capa,fila,columna] = 75\n",
    "            elif d[capa,fila,columna] > d_min and d[capa,fila,columna] < d_mean:\n",
    "                f[capa,fila,columna] = 25\n",
    "            elif d[capa,fila,columna] > d_mean and d[capa,fila,columna] < d_max:\n",
    "                f[capa,fila,columna] = 75\n",
    "            else:\n",
    "                pass \n",
    "\n",
    "f     "
   ]
  },
  {
   "cell_type": "code",
   "execution_count": 82,
   "metadata": {},
   "outputs": [
    {
     "data": {
      "text/plain": [
       "1.635462997282045"
      ]
     },
     "execution_count": 82,
     "metadata": {},
     "output_type": "execute_result"
    }
   ],
   "source": [
    "d[0,0,0]"
   ]
  },
  {
   "cell_type": "markdown",
   "metadata": {},
   "source": [
    "### 17. Print d and f. Do you have your expected f?\n",
    "\n",
    "For instance, if your d is:\n",
    "array([[[1.85836099, 1.67064465, 1.62576044, 1.40243961, 1.88454931],\n",
    "        [1.75354326, 1.69403643, 1.36729252, 1.61415071, 1.12104981],\n",
    "        [1.72201435, 1.1862918 , 1.87078449, 1.7726778 , 1.88180042]],\n",
    "\n",
    "       [[1.44747908, 1.31673383, 1.02000951, 1.52218947, 1.97066381],\n",
    "        [1.79129243, 1.74983003, 1.96028037, 1.85166831, 1.65450881],\n",
    "        [1.18068344, 1.9587381 , 1.00656599, 1.93402165, 1.73514584]]])\n",
    "\n",
    "Your f should be:\n",
    "array([[[ 75.,  75.,  75.,  25.,  75.],\n",
    "        [ 75.,  75.,  25.,  25.,  25.],\n",
    "        [ 75.,  25.,  75.,  75.,  75.]],\n",
    "\n",
    "       [[ 25.,  25.,  25.,  25., 100.],\n",
    "        [ 75.,  75.,  75.,  75.,  75.],\n",
    "        [ 25.,  75.,   0.,  75.,  75.]]])\n",
    "\"\"\""
   ]
  },
  {
   "cell_type": "code",
   "execution_count": 83,
   "metadata": {},
   "outputs": [
    {
     "name": "stdout",
     "output_type": "stream",
     "text": [
      "[[[1.635463   1.46338304 1.24997434 1.02059286 1.42602659]\n",
      "  [1.1478488  1.49113184 1.13891948 1.85687536 1.08281527]\n",
      "  [1.71169421 1.30694168 1.6341789  1.92065403 1.90528588]]\n",
      "\n",
      " [[1.20361999 1.25985575 1.06223835 1.04736775 1.59338424]\n",
      "  [1.25918223 1.04513543 1.41287093 1.50688205 1.98502713]\n",
      "  [1.41593816 1.27893748 1.92424855 1.19024139 1.05943507]]]\n"
     ]
    }
   ],
   "source": [
    "print(d)"
   ]
  },
  {
   "cell_type": "code",
   "execution_count": 84,
   "metadata": {},
   "outputs": [
    {
     "name": "stdout",
     "output_type": "stream",
     "text": [
      "[[[75. 75. 25.  0. 75.]\n",
      "  [25. 75. 25. 75. 25.]\n",
      "  [75. 25. 75. 75. 75.]]\n",
      "\n",
      " [[25. 25. 25. 25. 75.]\n",
      "  [25. 25. 75. 75. 75.]\n",
      "  [75. 25. 75. 25. 25.]]]\n"
     ]
    }
   ],
   "source": [
    "print(f)"
   ]
  },
  {
   "cell_type": "markdown",
   "metadata": {},
   "source": [
    "### 18. Bonus question: instead of using numbers (i.e. 0, 25, 50, 75, and 100), how to use string values (\"A\", \"B\", \"C\", \"D\", and \"E\") to label the array elements? \n",
    "\n",
    "You are expecting the result to be:\n",
    "array([[[ 'D',  'D',  'D',  'B',  'D'],\n",
    "        [ 'D',  'D',  'B',  'B',  'B'],\n",
    "        [ 'D',  'B',  'D',  'D',  'D']],\n",
    "\n",
    "       [[ 'B',  'B',  'B',  'B',  'E'],\n",
    "        [ 'D',  'D',  'D',  'D',  'D'],\n",
    "        [ 'B',  'D',   'A',  'D', 'D']]])\n",
    "Again, you don't need Numpy in this question."
   ]
  },
  {
   "cell_type": "code",
   "execution_count": 85,
   "metadata": {},
   "outputs": [
    {
     "data": {
      "text/plain": [
       "array([[['D', 'D', 'B', 'A', 'D'],\n",
       "        ['B', 'D', 'B', 'D', 'B'],\n",
       "        ['D', 'B', 'D', 'D', 'D']],\n",
       "\n",
       "       [['B', 'B', 'B', 'B', 'D'],\n",
       "        ['B', 'B', 'D', 'D', 'E'],\n",
       "        ['D', 'B', 'D', 'B', 'B']]], dtype=object)"
      ]
     },
     "execution_count": 85,
     "metadata": {},
     "output_type": "execute_result"
    }
   ],
   "source": [
    "#using numpy.where\n",
    "\n",
    "f = np.where(d == d_min, 'A', np.where(d == d_mean, 'C', np.where(d == d_max, 'E', np.where((d>d_min) & (d<d_mean), 'B', np.where((d>d_mean) & (d<d_max), 'D', None)))))\n",
    "f"
   ]
  }
 ],
 "metadata": {
  "kernelspec": {
   "display_name": "Python 3 (ipykernel)",
   "language": "python",
   "name": "python3"
  },
  "language_info": {
   "codemirror_mode": {
    "name": "ipython",
    "version": 3
   },
   "file_extension": ".py",
   "mimetype": "text/x-python",
   "name": "python",
   "nbconvert_exporter": "python",
   "pygments_lexer": "ipython3",
   "version": "3.11.4"
  }
 },
 "nbformat": 4,
 "nbformat_minor": 2
}
